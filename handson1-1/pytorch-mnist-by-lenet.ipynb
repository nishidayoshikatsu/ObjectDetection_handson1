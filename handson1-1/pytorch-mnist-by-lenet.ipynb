{
 "cells": [
  {
   "cell_type": "code",
   "execution_count": 1,
   "metadata": {},
   "outputs": [],
   "source": [
    "import torch\n",
    "import torch.nn as nn\n",
    "import torch.optim as optim\n",
    "from torchvision import datasets, transforms\n",
    "from torch.autograd import Variable\n",
    "from PIL import Image\n",
    "import torch.nn.functional as F\n",
    "import numpy as np"
   ]
  },
  {
   "cell_type": "code",
   "execution_count": 2,
   "metadata": {},
   "outputs": [
    {
     "data": {
      "text/plain": [
       "'1.3.1'"
      ]
     },
     "execution_count": 2,
     "metadata": {},
     "output_type": "execute_result"
    }
   ],
   "source": [
    "torch.__version__"
   ]
  },
  {
   "cell_type": "markdown",
   "metadata": {
    "_uuid": "954ec229fc748633472922cdce853ae06a49771d"
   },
   "source": [
    "## Define LeNet"
   ]
  },
  {
   "cell_type": "code",
   "execution_count": 3,
   "metadata": {},
   "outputs": [],
   "source": [
    "class LeNet(nn.Module):\n",
    "    def __init__(self):\n",
    "        super(LeNet, self).__init__()\n",
    "\n",
    "        # input channel = 1, output channel = 6, kernel_size = 5\n",
    "        # input size = (32, 32), output size = (28, 28)\n",
    "        self.conv1 = nn.Conv2d(1, 6, 5)\n",
    "        # input channel = 6, output channel = 16, kernel_size = 5\n",
    "        # input size = (14, 14), output size = (10, 10)\n",
    "        self.conv2 = nn.Conv2d(6, 16, 5)\n",
    "        # input dim = 16*5*5, output dim = 120\n",
    "        self.fc1 = nn.Linear(16 * 5 * 5, 120)\n",
    "        # input dim = 120, output dim = 84\n",
    "        self.fc2 = nn.Linear(120, 84)\n",
    "        # input dim = 84, output dim = 10\n",
    "        self.fc3 = nn.Linear(84, 10)\n",
    "\n",
    "    def forward(self, x):\n",
    "        # pool size = 2\n",
    "        # input size = (28, 28), output size = (14, 14), output channel = 6\n",
    "        x = F.max_pool2d(F.relu(self.conv1(x)), 2)\n",
    "        # pool size = 2\n",
    "        # input size = (10, 10), output size = (5, 5), output channel = 16\n",
    "        x = F.max_pool2d(F.relu(self.conv2(x)), 2)\n",
    "        # flatten as one dimension\n",
    "        x = x.view(x.size()[0], -1)\n",
    "        # input dim = 16*5*5, output dim = 120\n",
    "        x = F.relu(self.fc1(x))\n",
    "        # input dim = 120, output dim = 84\n",
    "        x = F.relu(self.fc2(x))\n",
    "        # input dim = 84, output dim = 10\n",
    "        x = self.fc3(x)\n",
    "        return x"
   ]
  },
  {
   "cell_type": "markdown",
   "metadata": {
    "_uuid": "2cf8786fc966a5c9a52352ccdeab70d0e524c513"
   },
   "source": [
    "## Define a function to load MNIST"
   ]
  },
  {
   "cell_type": "code",
   "execution_count": 4,
   "metadata": {},
   "outputs": [],
   "source": [
    "def load_data(train_batch_size, test_batch_size):\n",
    "    # Fetch training data: total 60000 samples\n",
    "    train_loader = torch.utils.data.DataLoader(\n",
    "        datasets.MNIST('data', train=True, download=True,\n",
    "                       transform=transforms.Compose([\n",
    "                           transforms.Resize((32, 32)),\n",
    "                           transforms.ToTensor(),\n",
    "                           transforms.Normalize((0.1307,), (0.3081,))\n",
    "                       ])),\n",
    "        batch_size=train_batch_size, shuffle=True)\n",
    "\n",
    "    # Fetch test data: total 10000 samples\n",
    "    test_loader = torch.utils.data.DataLoader(\n",
    "        datasets.MNIST('data', train=False, transform=transforms.Compose([\n",
    "            transforms.Resize((32, 32)),\n",
    "            transforms.ToTensor(),\n",
    "            transforms.Normalize((0.1307,), (0.3081,))\n",
    "        ])),\n",
    "        batch_size=test_batch_size, shuffle=True)\n",
    "\n",
    "    return (train_loader, test_loader)"
   ]
  },
  {
   "cell_type": "markdown",
   "metadata": {
    "_uuid": "7b00619d8f33ca7b5469605d42a75b4444bd20b5"
   },
   "source": [
    "## Define a function to train model"
   ]
  },
  {
   "cell_type": "code",
   "execution_count": 5,
   "metadata": {},
   "outputs": [],
   "source": [
    "def train(model, optimizer, epoch, train_loader, log_interval):\n",
    "    # State that you are training the model\n",
    "    model.train()\n",
    "\n",
    "    # define loss function\n",
    "    loss_fn = torch.nn.CrossEntropyLoss()\n",
    "\n",
    "    # Iterate over batches of data\n",
    "    for batch_idx, (data, target) in enumerate(train_loader):\n",
    "        # Wrap the input and target output in the `Variable` wrapper\n",
    "        data, target = Variable(data), Variable(target)\n",
    "\n",
    "        # Clear the gradients, since PyTorch accumulates them\n",
    "        optimizer.zero_grad()\n",
    "\n",
    "        # Forward propagation\n",
    "        output = model(data)\n",
    "\n",
    "        loss = loss_fn(output, target)\n",
    "\n",
    "        # Backward propagation\n",
    "        loss.backward()\n",
    "\n",
    "        # Update the parameters(weight,bias)\n",
    "        optimizer.step()\n",
    "\n",
    "        # print log\n",
    "        if batch_idx % log_interval == 0:\n",
    "            print('Train set, Epoch {} [{}/{} ({:.0f}%)]\\tLoss: {:.6f}'.format(\n",
    "                epoch, batch_idx * len(data), len(train_loader.dataset),\n",
    "                       100. * batch_idx / len(train_loader),\n",
    "                loss.item()))"
   ]
  },
  {
   "cell_type": "markdown",
   "metadata": {
    "_uuid": "90d6123882eae779a42c6993ccd934f02a533b08"
   },
   "source": [
    "## Define a function to evaluate model"
   ]
  },
  {
   "cell_type": "code",
   "execution_count": 6,
   "metadata": {},
   "outputs": [],
   "source": [
    "def test(model, epoch, test_loader):\n",
    "    # State that you are testing the model; this prevents layers e.g. Dropout to take effect\n",
    "    model.eval()\n",
    "\n",
    "    # Init loss & correct prediction accumulators\n",
    "    test_loss = 0\n",
    "    correct = 0\n",
    "\n",
    "    # define loss function\n",
    "    loss_fn = torch.nn.CrossEntropyLoss(size_average=False)\n",
    "\n",
    "    # Iterate over data\n",
    "    for data, target in test_loader:\n",
    "        data, target = Variable(data), Variable(target)\n",
    "        \n",
    "        # Forward propagation\n",
    "        output = model(data)\n",
    "\n",
    "        # Calculate & accumulate loss\n",
    "        test_loss += loss_fn(output, target).item()\n",
    "\n",
    "        # Get the index of the max log-probability (the predicted output label)\n",
    "        pred = np.argmax(output.data, axis=1)\n",
    "\n",
    "        # If correct, increment correct prediction accumulator\n",
    "        correct = correct + np.equal(pred, target.data).sum()\n",
    "\n",
    "    # Print log\n",
    "    test_loss /= len(test_loader.dataset)\n",
    "    print('\\nTest set, Epoch {} , Average loss: {:.4f}, Accuracy: {}/{} ({:.0f}%)\\n'.format(epoch,\n",
    "        test_loss, correct, len(test_loader.dataset),\n",
    "        100. * correct / len(test_loader.dataset)))"
   ]
  },
  {
   "cell_type": "markdown",
   "metadata": {
    "_uuid": "2200d81984d5d0f31207d846599b90e73ad67b05"
   },
   "source": [
    "## Train and evaluate model"
   ]
  },
  {
   "cell_type": "code",
   "execution_count": 7,
   "metadata": {},
   "outputs": [
    {
     "name": "stderr",
     "output_type": "stream",
     "text": [
      "0it [00:00, ?it/s]"
     ]
    },
    {
     "name": "stdout",
     "output_type": "stream",
     "text": [
      "Downloading http://yann.lecun.com/exdb/mnist/train-images-idx3-ubyte.gz to data/MNIST/raw/train-images-idx3-ubyte.gz\n"
     ]
    },
    {
     "name": "stderr",
     "output_type": "stream",
     "text": [
      "100%|█████████▉| 9871360/9912422 [00:35<00:00, 363474.69it/s]"
     ]
    },
    {
     "name": "stdout",
     "output_type": "stream",
     "text": [
      "Extracting data/MNIST/raw/train-images-idx3-ubyte.gz to data/MNIST/raw\n"
     ]
    },
    {
     "name": "stderr",
     "output_type": "stream",
     "text": [
      "\n",
      "0it [00:00, ?it/s]\u001b[A"
     ]
    },
    {
     "name": "stdout",
     "output_type": "stream",
     "text": [
      "Downloading http://yann.lecun.com/exdb/mnist/train-labels-idx1-ubyte.gz to data/MNIST/raw/train-labels-idx1-ubyte.gz\n"
     ]
    },
    {
     "name": "stderr",
     "output_type": "stream",
     "text": [
      "\n",
      "  0%|          | 0/28881 [00:00<?, ?it/s]\u001b[A\n",
      "32768it [00:00, 36783.48it/s]                           \n",
      "\n",
      "0it [00:00, ?it/s]\u001b[A"
     ]
    },
    {
     "name": "stdout",
     "output_type": "stream",
     "text": [
      "Extracting data/MNIST/raw/train-labels-idx1-ubyte.gz to data/MNIST/raw\n",
      "Downloading http://yann.lecun.com/exdb/mnist/t10k-images-idx3-ubyte.gz to data/MNIST/raw/t10k-images-idx3-ubyte.gz\n"
     ]
    },
    {
     "name": "stderr",
     "output_type": "stream",
     "text": [
      "\n",
      "  0%|          | 0/1648877 [00:00<?, ?it/s]\u001b[A\n",
      "  1%|          | 16384/1648877 [00:00<00:22, 71170.74it/s]\u001b[A\n",
      "  2%|▏         | 40960/1648877 [00:01<00:21, 75381.15it/s]\u001b[A\n",
      "  6%|▌         | 98304/1648877 [00:01<00:16, 91801.12it/s]\u001b[A\n",
      "  9%|▉         | 155648/1648877 [00:01<00:13, 108259.36it/s]\u001b[A\n",
      " 13%|█▎        | 221184/1648877 [00:02<00:11, 127049.53it/s]\u001b[A\n",
      " 17%|█▋        | 286720/1648877 [00:02<00:09, 144624.79it/s]\u001b[A\n",
      " 22%|██▏       | 360448/1648877 [00:02<00:07, 164155.52it/s]\u001b[A\n",
      " 26%|██▌       | 425984/1648877 [00:02<00:06, 193051.37it/s]\u001b[A\n",
      " 30%|███       | 499712/1648877 [00:03<00:05, 204427.39it/s]\u001b[A\n",
      " 35%|███▍      | 573440/1648877 [00:03<00:05, 213910.19it/s]\u001b[A\n",
      " 39%|███▉      | 638976/1648877 [00:03<00:04, 213707.75it/s]\u001b[A\n",
      " 43%|████▎     | 712704/1648877 [00:04<00:04, 220926.86it/s]\u001b[A\n",
      " 48%|████▊     | 786432/1648877 [00:04<00:03, 250793.61it/s]\u001b[A\n",
      " 53%|█████▎    | 868352/1648877 [00:04<00:03, 254403.17it/s]\u001b[A\n",
      " 57%|█████▋    | 942080/1648877 [00:04<00:02, 249995.56it/s]\u001b[A\n",
      " 62%|██████▏   | 1024000/1648877 [00:05<00:02, 254850.73it/s]\u001b[A\n",
      " 67%|██████▋   | 1105920/1648877 [00:05<00:02, 258273.90it/s]\u001b[A\n",
      " 72%|███████▏  | 1187840/1648877 [00:06<00:02, 201677.79it/s]\u001b[A\n",
      " 78%|███████▊  | 1277952/1648877 [00:06<00:01, 222508.63it/s]\u001b[A\n",
      " 85%|████████▍ | 1400832/1648877 [00:06<00:00, 256614.20it/s]\u001b[A\n",
      " 89%|████████▉ | 1474560/1648877 [00:06<00:00, 272803.21it/s]\u001b[A\n",
      " 94%|█████████▍| 1548288/1648877 [00:07<00:00, 284540.10it/s]\u001b[A\n",
      " 99%|█████████▉| 1630208/1648877 [00:07<00:00, 310296.45it/s]\u001b[A\n",
      "\n",
      "0it [00:00, ?it/s]\u001b[A\u001b[A"
     ]
    },
    {
     "name": "stdout",
     "output_type": "stream",
     "text": [
      "Extracting data/MNIST/raw/t10k-images-idx3-ubyte.gz to data/MNIST/raw\n",
      "Downloading http://yann.lecun.com/exdb/mnist/t10k-labels-idx1-ubyte.gz to data/MNIST/raw/t10k-labels-idx1-ubyte.gz\n"
     ]
    },
    {
     "name": "stderr",
     "output_type": "stream",
     "text": [
      "\n",
      "\n",
      "8192it [00:00, 19349.59it/s]            \n"
     ]
    },
    {
     "name": "stdout",
     "output_type": "stream",
     "text": [
      "Extracting data/MNIST/raw/t10k-labels-idx1-ubyte.gz to data/MNIST/raw\n",
      "Processing...\n",
      "Done!\n",
      "Train set, Epoch 1 [0/60000 (0%)]\tLoss: 2.297229\n",
      "Train set, Epoch 1 [6400/60000 (11%)]\tLoss: 2.138054\n",
      "Train set, Epoch 1 [12800/60000 (21%)]\tLoss: 0.613613\n",
      "Train set, Epoch 1 [19200/60000 (32%)]\tLoss: 0.291294\n"
     ]
    },
    {
     "name": "stderr",
     "output_type": "stream",
     "text": [
      "9920512it [00:50, 363474.69it/s]                             "
     ]
    },
    {
     "name": "stdout",
     "output_type": "stream",
     "text": [
      "Train set, Epoch 1 [25600/60000 (43%)]\tLoss: 0.422878\n",
      "Train set, Epoch 1 [32000/60000 (53%)]\tLoss: 0.269379\n",
      "Train set, Epoch 1 [38400/60000 (64%)]\tLoss: 0.258722\n",
      "Train set, Epoch 1 [44800/60000 (75%)]\tLoss: 0.119212\n",
      "Train set, Epoch 1 [51200/60000 (85%)]\tLoss: 0.159573\n",
      "Train set, Epoch 1 [57600/60000 (96%)]\tLoss: 0.118896\n"
     ]
    },
    {
     "name": "stderr",
     "output_type": "stream",
     "text": [
      "/home/nsd/.local/lib/python3.6/site-packages/torch/nn/_reduction.py:43: UserWarning: size_average and reduce args will be deprecated, please use reduction='sum' instead.\n",
      "  warnings.warn(warning.format(ret))\n",
      "\n",
      "1654784it [00:23, 310296.45it/s]                             \u001b[A"
     ]
    },
    {
     "name": "stdout",
     "output_type": "stream",
     "text": [
      "\n",
      "Test set, Epoch 1 , Average loss: 0.1267, Accuracy: 9599/10000 (96%)\n",
      "\n",
      "Train set, Epoch 2 [0/60000 (0%)]\tLoss: 0.118829\n",
      "Train set, Epoch 2 [6400/60000 (11%)]\tLoss: 0.056150\n",
      "Train set, Epoch 2 [12800/60000 (21%)]\tLoss: 0.254714\n",
      "Train set, Epoch 2 [19200/60000 (32%)]\tLoss: 0.105262\n",
      "Train set, Epoch 2 [25600/60000 (43%)]\tLoss: 0.075368\n",
      "Train set, Epoch 2 [32000/60000 (53%)]\tLoss: 0.083703\n",
      "Train set, Epoch 2 [38400/60000 (64%)]\tLoss: 0.164130\n",
      "Train set, Epoch 2 [44800/60000 (75%)]\tLoss: 0.036804\n",
      "Train set, Epoch 2 [51200/60000 (85%)]\tLoss: 0.114792\n",
      "Train set, Epoch 2 [57600/60000 (96%)]\tLoss: 0.095193\n",
      "\n",
      "Test set, Epoch 2 , Average loss: 0.1025, Accuracy: 9667/10000 (97%)\n",
      "\n",
      "Train set, Epoch 3 [0/60000 (0%)]\tLoss: 0.142088\n",
      "Train set, Epoch 3 [6400/60000 (11%)]\tLoss: 0.029548\n",
      "Train set, Epoch 3 [12800/60000 (21%)]\tLoss: 0.055164\n",
      "Train set, Epoch 3 [19200/60000 (32%)]\tLoss: 0.052423\n",
      "Train set, Epoch 3 [25600/60000 (43%)]\tLoss: 0.079583\n",
      "Train set, Epoch 3 [32000/60000 (53%)]\tLoss: 0.039955\n",
      "Train set, Epoch 3 [38400/60000 (64%)]\tLoss: 0.081630\n",
      "Train set, Epoch 3 [44800/60000 (75%)]\tLoss: 0.026298\n",
      "Train set, Epoch 3 [51200/60000 (85%)]\tLoss: 0.023231\n",
      "Train set, Epoch 3 [57600/60000 (96%)]\tLoss: 0.039464\n",
      "\n",
      "Test set, Epoch 3 , Average loss: 0.0637, Accuracy: 9800/10000 (98%)\n",
      "\n",
      "Train set, Epoch 4 [0/60000 (0%)]\tLoss: 0.027863\n",
      "Train set, Epoch 4 [6400/60000 (11%)]\tLoss: 0.027951\n",
      "Train set, Epoch 4 [12800/60000 (21%)]\tLoss: 0.028895\n",
      "Train set, Epoch 4 [19200/60000 (32%)]\tLoss: 0.203911\n",
      "Train set, Epoch 4 [25600/60000 (43%)]\tLoss: 0.115947\n",
      "Train set, Epoch 4 [32000/60000 (53%)]\tLoss: 0.040374\n",
      "Train set, Epoch 4 [38400/60000 (64%)]\tLoss: 0.015503\n",
      "Train set, Epoch 4 [44800/60000 (75%)]\tLoss: 0.132289\n",
      "Train set, Epoch 4 [51200/60000 (85%)]\tLoss: 0.052476\n",
      "Train set, Epoch 4 [57600/60000 (96%)]\tLoss: 0.044722\n",
      "\n",
      "Test set, Epoch 4 , Average loss: 0.0546, Accuracy: 9823/10000 (98%)\n",
      "\n",
      "Train set, Epoch 5 [0/60000 (0%)]\tLoss: 0.038746\n",
      "Train set, Epoch 5 [6400/60000 (11%)]\tLoss: 0.030340\n",
      "Train set, Epoch 5 [12800/60000 (21%)]\tLoss: 0.051211\n",
      "Train set, Epoch 5 [19200/60000 (32%)]\tLoss: 0.034336\n",
      "Train set, Epoch 5 [25600/60000 (43%)]\tLoss: 0.237662\n",
      "Train set, Epoch 5 [32000/60000 (53%)]\tLoss: 0.040809\n",
      "Train set, Epoch 5 [38400/60000 (64%)]\tLoss: 0.085311\n",
      "Train set, Epoch 5 [44800/60000 (75%)]\tLoss: 0.026628\n",
      "Train set, Epoch 5 [51200/60000 (85%)]\tLoss: 0.176394\n",
      "Train set, Epoch 5 [57600/60000 (96%)]\tLoss: 0.031020\n",
      "\n",
      "Test set, Epoch 5 , Average loss: 0.0549, Accuracy: 9816/10000 (98%)\n",
      "\n",
      "Train set, Epoch 6 [0/60000 (0%)]\tLoss: 0.014934\n",
      "Train set, Epoch 6 [6400/60000 (11%)]\tLoss: 0.058386\n",
      "Train set, Epoch 6 [12800/60000 (21%)]\tLoss: 0.019125\n",
      "Train set, Epoch 6 [19200/60000 (32%)]\tLoss: 0.025395\n",
      "Train set, Epoch 6 [25600/60000 (43%)]\tLoss: 0.078278\n",
      "Train set, Epoch 6 [32000/60000 (53%)]\tLoss: 0.026225\n",
      "Train set, Epoch 6 [38400/60000 (64%)]\tLoss: 0.014740\n",
      "Train set, Epoch 6 [44800/60000 (75%)]\tLoss: 0.019483\n",
      "Train set, Epoch 6 [51200/60000 (85%)]\tLoss: 0.108523\n",
      "Train set, Epoch 6 [57600/60000 (96%)]\tLoss: 0.006907\n",
      "\n",
      "Test set, Epoch 6 , Average loss: 0.0437, Accuracy: 9854/10000 (99%)\n",
      "\n",
      "Train set, Epoch 7 [0/60000 (0%)]\tLoss: 0.079539\n",
      "Train set, Epoch 7 [6400/60000 (11%)]\tLoss: 0.055496\n",
      "Train set, Epoch 7 [12800/60000 (21%)]\tLoss: 0.151740\n",
      "Train set, Epoch 7 [19200/60000 (32%)]\tLoss: 0.038391\n",
      "Train set, Epoch 7 [25600/60000 (43%)]\tLoss: 0.070415\n",
      "Train set, Epoch 7 [32000/60000 (53%)]\tLoss: 0.012185\n",
      "Train set, Epoch 7 [38400/60000 (64%)]\tLoss: 0.020475\n",
      "Train set, Epoch 7 [44800/60000 (75%)]\tLoss: 0.091270\n",
      "Train set, Epoch 7 [51200/60000 (85%)]\tLoss: 0.041457\n",
      "Train set, Epoch 7 [57600/60000 (96%)]\tLoss: 0.017192\n",
      "\n",
      "Test set, Epoch 7 , Average loss: 0.0371, Accuracy: 9875/10000 (99%)\n",
      "\n",
      "Train set, Epoch 8 [0/60000 (0%)]\tLoss: 0.012091\n",
      "Train set, Epoch 8 [6400/60000 (11%)]\tLoss: 0.014799\n",
      "Train set, Epoch 8 [12800/60000 (21%)]\tLoss: 0.011250\n",
      "Train set, Epoch 8 [19200/60000 (32%)]\tLoss: 0.029714\n",
      "Train set, Epoch 8 [25600/60000 (43%)]\tLoss: 0.088751\n",
      "Train set, Epoch 8 [32000/60000 (53%)]\tLoss: 0.054771\n",
      "Train set, Epoch 8 [38400/60000 (64%)]\tLoss: 0.033361\n",
      "Train set, Epoch 8 [44800/60000 (75%)]\tLoss: 0.047634\n",
      "Train set, Epoch 8 [51200/60000 (85%)]\tLoss: 0.002842\n",
      "Train set, Epoch 8 [57600/60000 (96%)]\tLoss: 0.014679\n",
      "\n",
      "Test set, Epoch 8 , Average loss: 0.0345, Accuracy: 9889/10000 (99%)\n",
      "\n",
      "Train set, Epoch 9 [0/60000 (0%)]\tLoss: 0.027793\n",
      "Train set, Epoch 9 [6400/60000 (11%)]\tLoss: 0.016075\n",
      "Train set, Epoch 9 [12800/60000 (21%)]\tLoss: 0.016942\n",
      "Train set, Epoch 9 [19200/60000 (32%)]\tLoss: 0.067236\n",
      "Train set, Epoch 9 [25600/60000 (43%)]\tLoss: 0.007027\n",
      "Train set, Epoch 9 [32000/60000 (53%)]\tLoss: 0.047213\n",
      "Train set, Epoch 9 [38400/60000 (64%)]\tLoss: 0.002585\n",
      "Train set, Epoch 9 [44800/60000 (75%)]\tLoss: 0.046272\n",
      "Train set, Epoch 9 [51200/60000 (85%)]\tLoss: 0.078486\n",
      "Train set, Epoch 9 [57600/60000 (96%)]\tLoss: 0.087582\n",
      "\n",
      "Test set, Epoch 9 , Average loss: 0.0498, Accuracy: 9832/10000 (98%)\n",
      "\n",
      "Train set, Epoch 10 [0/60000 (0%)]\tLoss: 0.029146\n",
      "Train set, Epoch 10 [6400/60000 (11%)]\tLoss: 0.012271\n",
      "Train set, Epoch 10 [12800/60000 (21%)]\tLoss: 0.027356\n",
      "Train set, Epoch 10 [19200/60000 (32%)]\tLoss: 0.000976\n",
      "Train set, Epoch 10 [25600/60000 (43%)]\tLoss: 0.003687\n",
      "Train set, Epoch 10 [32000/60000 (53%)]\tLoss: 0.013887\n",
      "Train set, Epoch 10 [38400/60000 (64%)]\tLoss: 0.040303\n",
      "Train set, Epoch 10 [44800/60000 (75%)]\tLoss: 0.043821\n",
      "Train set, Epoch 10 [51200/60000 (85%)]\tLoss: 0.017281\n",
      "Train set, Epoch 10 [57600/60000 (96%)]\tLoss: 0.015920\n",
      "\n",
      "Test set, Epoch 10 , Average loss: 0.0387, Accuracy: 9872/10000 (99%)\n",
      "\n"
     ]
    }
   ],
   "source": [
    "# Provide seed for the pseudorandom number generator s.t. the same results can be reproduced\n",
    "torch.manual_seed(123)\n",
    "\n",
    "model = LeNet()\n",
    "\n",
    "lr = 0.01\n",
    "momentum=0.5\n",
    "optimizer = optim.SGD(model.parameters(), lr=lr, momentum=momentum)\n",
    "\n",
    "train_batch_size = 64\n",
    "test_batch_size = 1000\n",
    "train_loader, test_loader = load_data(train_batch_size, test_batch_size)\n",
    "\n",
    "epochs = 10\n",
    "log_interval = 100\n",
    "for epoch in range(1, epochs + 1):\n",
    "    train(model, optimizer, epoch, train_loader, log_interval=log_interval)\n",
    "    test(model, epoch, test_loader)"
   ]
  },
  {
   "cell_type": "markdown",
   "metadata": {
    "_uuid": "2f13d4e2b175f4862d4852f63ed0704e781f25ce"
   },
   "source": [
    "## Predict by model"
   ]
  },
  {
   "cell_type": "markdown",
   "metadata": {
    "_uuid": "19ee5b0ca6aaca55194a920cc598343905886bf8"
   },
   "source": [
    "### prediction: digit 2"
   ]
  },
  {
   "cell_type": "code",
   "execution_count": 15,
   "metadata": {
    "_uuid": "07aa0b307d4d35f741c10e9f6f33b7088e3e6dff"
   },
   "outputs": [
    {
     "data": {
      "image/png": "[encoded data removed]",
      "text/plain": [
       "<PIL.PngImagePlugin.PngImageFile image mode=RGBA size=28x28 at 0x7FA280048E80>"
      ]
     },
     "execution_count": 15,
     "metadata": {},
     "output_type": "execute_result"
    }
   ],
   "source": [
    "# Show image\n",
    "file1 = \"./input/sample_2.png\"\n",
    "Image.open(file1)"
   ]
  },
  {
   "cell_type": "code",
   "execution_count": 16,
   "metadata": {
    "_uuid": "d6528a5954af358679824bd2b37f6385188a587b"
   },
   "outputs": [],
   "source": [
    "# Load & transform image\n",
    "ori_img = Image.open(file1).convert('L')\n",
    "t = transforms.Compose([\n",
    "    transforms.Resize((32, 32)),\n",
    "    transforms.ToTensor(),\n",
    "    transforms.Normalize((0.1307,), (0.3081,))\n",
    "])\n",
    "img = torch.autograd.Variable(t(ori_img).unsqueeze(0))\n",
    "ori_img.close()"
   ]
  },
  {
   "cell_type": "code",
   "execution_count": 17,
   "metadata": {
    "_uuid": "ce5b4368c71f7f835966de84f135982deb813e97"
   },
   "outputs": [
    {
     "name": "stdout",
     "output_type": "stream",
     "text": [
      "Prediction: 2\n"
     ]
    }
   ],
   "source": [
    "# Predict\n",
    "model.eval()\n",
    "output = model(img)\n",
    "pred = output.data.max(1, keepdim=True)[1][0][0]\n",
    "print('Prediction: {}'.format(pred))"
   ]
  },
  {
   "cell_type": "markdown",
   "metadata": {
    "_uuid": "922311970c26b9cb0b6b2e9ccd5ddf5daed2bd04"
   },
   "source": [
    "### prediction: digit 4"
   ]
  },
  {
   "cell_type": "code",
   "execution_count": 18,
   "metadata": {
    "_uuid": "fe47a01269538eba95bbf7c29c43cff7879d3dd7"
   },
   "outputs": [
    {
     "data": {
      "image/png": "[encoded data removed]",
      "text/plain": [
       "<PIL.PngImagePlugin.PngImageFile image mode=RGBA size=219x221 at 0x7FA280048BA8>"
      ]
     },
     "execution_count": 18,
     "metadata": {},
     "output_type": "execute_result"
    }
   ],
   "source": [
    "# Show image\n",
    "file2 = \"./input/sample_4.png\"\n",
    "Image.open(file2)"
   ]
  },
  {
   "cell_type": "code",
   "execution_count": 20,
   "metadata": {
    "_uuid": "c2ededbe96f6492ffcfbbe4bedf11d5c71222f43",
    "collapsed": true
   },
   "outputs": [],
   "source": [
    "# Load & transform image\n",
    "ori_img = Image.open(file2).convert('L')\n",
    "t = transforms.Compose([\n",
    "    transforms.Resize((32, 32)),\n",
    "    transforms.ToTensor(),\n",
    "    transforms.Normalize((0.1307,), (0.3081,))\n",
    "])\n",
    "img = torch.autograd.Variable(t(ori_img).unsqueeze(0))\n",
    "ori_img.close()"
   ]
  },
  {
   "cell_type": "code",
   "execution_count": 21,
   "metadata": {
    "_uuid": "7614c15a6c762554a7e2604abd6dd4a26672ad92"
   },
   "outputs": [
    {
     "name": "stdout",
     "output_type": "stream",
     "text": [
      "Prediction: 4\n"
     ]
    }
   ],
   "source": [
    "# Predict\n",
    "model.eval()\n",
    "output = model(img)\n",
    "pred = output.data.max(1, keepdim=True)[1][0][0]\n",
    "print('Prediction: {}'.format(pred))"
   ]
  },
  {
   "cell_type": "markdown",
   "metadata": {
    "_uuid": "9183354b4ebcb1d6392850751429804dc55e18c9"
   },
   "source": [
    "### Prediction: digit 6"
   ]
  },
  {
   "cell_type": "code",
   "execution_count": 22,
   "metadata": {
    "_uuid": "be00265a0fedd2fdc55f81bb88854003150eb809",
    "collapsed": true
   },
   "outputs": [
    {
     "data": {
      "image/png": "[encoded data removed]",
      "text/plain": [
       "<PIL.PngImagePlugin.PngImageFile image mode=P size=225x224 at 0x7FA280048240>"
      ]
     },
     "execution_count": 22,
     "metadata": {},
     "output_type": "execute_result"
    }
   ],
   "source": [
    "# Show image\n",
    "file3 = \"./input/sample_6.png\"\n",
    "Image.open(file3)"
   ]
  },
  {
   "cell_type": "code",
   "execution_count": 23,
   "metadata": {
    "_uuid": "5f0ee63da46d97c3acfd186396a106f7d93412f1",
    "collapsed": true
   },
   "outputs": [],
   "source": [
    "# Load & transform image\n",
    "ori_img = Image.open(file3).convert('L')\n",
    "t = transforms.Compose([\n",
    "    transforms.Resize((32, 32)),\n",
    "    transforms.ToTensor(),\n",
    "    transforms.Normalize((0.1307,), (0.3081,))\n",
    "])\n",
    "img = torch.autograd.Variable(t(ori_img).unsqueeze(0))\n",
    "ori_img.close()"
   ]
  },
  {
   "cell_type": "code",
   "execution_count": 24,
   "metadata": {
    "_uuid": "e071a4f592962c13de4d4eec7ae4146b03128d3e"
   },
   "outputs": [
    {
     "name": "stdout",
     "output_type": "stream",
     "text": [
      "Prediction: 6\n"
     ]
    }
   ],
   "source": [
    "# Predict\n",
    "model.eval()\n",
    "output = model(img)\n",
    "pred = output.data.max(1, keepdim=True)[1][0][0]\n",
    "print('Prediction: {}'.format(pred))"
   ]
  },
  {
   "cell_type": "code",
   "execution_count": null,
   "metadata": {
    "_uuid": "b3bd1b25ca9912a3614dc417a86a04c38548d582",
    "collapsed": true
   },
   "outputs": [],
   "source": []
  }
 ],
 "metadata": {
  "kernelspec": {
   "display_name": "Python 3",
   "language": "python",
   "name": "python3"
  },
  "language_info": {
   "codemirror_mode": {
    "name": "ipython",
    "version": 3
   },
   "file_extension": ".py",
   "mimetype": "text/x-python",
   "name": "python",
   "nbconvert_exporter": "python",
   "pygments_lexer": "ipython3",
   "version": "3.6.8"
  }
 },
 "nbformat": 4,
 "nbformat_minor": 2
}
